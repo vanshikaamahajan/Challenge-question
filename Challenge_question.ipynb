{
  "nbformat": 4,
  "nbformat_minor": 0,
  "metadata": {
    "colab": {
      "provenance": [],
      "authorship_tag": "ABX9TyPkTqGB4skwUU9DFgSI0qaa",
      "include_colab_link": true
    },
    "kernelspec": {
      "name": "python3",
      "display_name": "Python 3"
    },
    "language_info": {
      "name": "python"
    }
  },
  "cells": [
    {
      "cell_type": "markdown",
      "metadata": {
        "id": "view-in-github",
        "colab_type": "text"
      },
      "source": [
        "<a href=\"https://colab.research.google.com/github/vanshikaamahajan/Challenge-question/blob/main/Challenge_question.ipynb\" target=\"_parent\"><img src=\"https://colab.research.google.com/assets/colab-badge.svg\" alt=\"Open In Colab\"/></a>"
      ]
    },
    {
      "cell_type": "code",
      "execution_count": 1,
      "metadata": {
        "colab": {
          "base_uri": "https://localhost:8080/"
        },
        "id": "IivbdjUoiVpq",
        "outputId": "a1d50b86-6b1f-4a21-c619-958473f8723d"
      },
      "outputs": [
        {
          "output_type": "stream",
          "name": "stdout",
          "text": [
            "Before sorting ['Ram', '1', 'Shyam', '2', 'Aman', '3']\n",
            "After sorting ['1', '2', '3', 'Aman', 'Ram', 'Shyam']\n"
          ]
        }
      ],
      "source": [
        "L=[\"Ram\",'1',\"Shyam\",'2',\"Aman\",'3']\n",
        "print(\"Before sorting\",L)\n",
        "numeric_list=[]\n",
        "nonnumeric_list=[]\n",
        "for i in L:\n",
        "  if i.isnumeric():\n",
        "    numeric_list.append(int(i))\n",
        "  else:\n",
        "    nonnumeric_list.append(i)\n",
        "numeric_list.sort()\n",
        "nonnumeric_list.sort()\n",
        "\n",
        "sorted_list=[]\n",
        "sorted_list.extend([str(i) for i in numeric_list])\n",
        "sorted_list.extend(nonnumeric_list)\n",
        "print(\"After sorting\",str(sorted_list))"
      ]
    }
  ]
}